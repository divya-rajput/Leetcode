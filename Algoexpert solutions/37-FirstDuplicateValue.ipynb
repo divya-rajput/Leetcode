{
 "cells": [
  {
   "attachments": {},
   "cell_type": "markdown",
   "metadata": {},
   "source": [
    "# Complexity analysis"
   ]
  },
  {
   "attachments": {},
   "cell_type": "markdown",
   "metadata": {},
   "source": [
    "#### Solution 1: Time Complexity: O(n) and Space Complexity: O(n)"
   ]
  },
  {
   "cell_type": "code",
   "execution_count": 1,
   "metadata": {},
   "outputs": [],
   "source": [
    "def firstDuplicateValueOne(array):\n",
    "    dic = {}\n",
    "    for i in range(len(array)):\n",
    "        if array[i] not in dic:\n",
    "            dic[array[i]] = 1\n",
    "        else:\n",
    "            return array[i]\n",
    "            \n",
    "    return -1"
   ]
  },
  {
   "attachments": {},
   "cell_type": "markdown",
   "metadata": {},
   "source": [
    "#### Solution 2: Time Complexity: O(n) and Space Complexity: O(1)"
   ]
  },
  {
   "cell_type": "code",
   "execution_count": 6,
   "metadata": {},
   "outputs": [],
   "source": [
    "def firstDuplicateValueTwo(array):\n",
    "    for i in range(1, len(array)+1):\n",
    "        value = abs(array[i-1]) - 1\n",
    "        if array[value] < 0:\n",
    "            return abs(array[i-1])\n",
    "        array[value] = - array[value]\n",
    "    return -1"
   ]
  },
  {
   "cell_type": "code",
   "execution_count": 8,
   "metadata": {},
   "outputs": [
    {
     "name": "stdout",
     "output_type": "stream",
     "text": [
      "Output1:  2\n",
      "Output2:  0\n"
     ]
    }
   ],
   "source": [
    "input1 = [2, 1, 5, 2, 3, 3, 4]\n",
    "input2 = [0,0,3,5,6,7]\n",
    "print(\"Output1: \",firstDuplicateValueOne(input1))\n",
    "print(\"Output2: \",firstDuplicateValueTwo(input2))"
   ]
  }
 ],
 "metadata": {
  "kernelspec": {
   "display_name": "Python 3",
   "language": "python",
   "name": "python3"
  },
  "language_info": {
   "codemirror_mode": {
    "name": "ipython",
    "version": 3
   },
   "file_extension": ".py",
   "mimetype": "text/x-python",
   "name": "python",
   "nbconvert_exporter": "python",
   "pygments_lexer": "ipython3",
   "version": "3.11.3"
  },
  "orig_nbformat": 4
 },
 "nbformat": 4,
 "nbformat_minor": 2
}
