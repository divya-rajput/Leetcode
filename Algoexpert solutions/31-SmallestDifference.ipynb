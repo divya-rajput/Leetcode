{
 "cells": [
  {
   "attachments": {},
   "cell_type": "markdown",
   "metadata": {},
   "source": [
    "# Complexity Analysis"
   ]
  },
  {
   "attachments": {},
   "cell_type": "markdown",
   "metadata": {},
   "source": [
    "#### Time Complexity: O(nlog(n)+mlog(n))\n",
    "#### Space Complexity: O(1)\n",
    "Here, n is the length of the first input array and m is the length of teh second input array."
   ]
  },
  {
   "cell_type": "code",
   "execution_count": 1,
   "metadata": {},
   "outputs": [],
   "source": [
    "def smallestDifference(arrayOne, arrayTwo):\n",
    "    arrayOne.sort()\n",
    "    arrayTwo.sort()\n",
    "    indexOne = 0\n",
    "    indexTwo = 0\n",
    "    smallest = float(\"inf\")\n",
    "    current = float(\"inf\")\n",
    "    smallestPair = []\n",
    "    while indexOne < len(arrayOne) and indexTwo < len(arrayTwo):\n",
    "        firstNum = arrayOne[indexOne]\n",
    "        secondNum = arrayTwo[indexTwo]\n",
    "        if firstNum < secondNum:\n",
    "            current = secondNum - firstNum\n",
    "            indexOne += 1\n",
    "        elif secondNum < firstNum:\n",
    "            current = firstNum - secondNum\n",
    "            indexTwo += 1\n",
    "        else:\n",
    "            return [firstNum,secondNum]\n",
    "        if smallest > current:\n",
    "            smallest = current\n",
    "            smallestPair = [firstNum,secondNum]\n",
    "    return smallestPair\n",
    "  "
   ]
  },
  {
   "cell_type": "code",
   "execution_count": 2,
   "metadata": {},
   "outputs": [
    {
     "name": "stdout",
     "output_type": "stream",
     "text": [
      "[28, 26]\n"
     ]
    }
   ],
   "source": [
    "print(smallestDifference([-1,5,10,20,28,3],[26,134,135,15,17]))"
   ]
  }
 ],
 "metadata": {
  "kernelspec": {
   "display_name": "Python 3",
   "language": "python",
   "name": "python3"
  },
  "language_info": {
   "codemirror_mode": {
    "name": "ipython",
    "version": 3
   },
   "file_extension": ".py",
   "mimetype": "text/x-python",
   "name": "python",
   "nbconvert_exporter": "python",
   "pygments_lexer": "ipython3",
   "version": "3.11.3"
  },
  "orig_nbformat": 4
 },
 "nbformat": 4,
 "nbformat_minor": 2
}
