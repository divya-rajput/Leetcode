{
 "cells": [
  {
   "attachments": {},
   "cell_type": "markdown",
   "metadata": {},
   "source": [
    "# Complexity analysis"
   ]
  },
  {
   "attachments": {},
   "cell_type": "markdown",
   "metadata": {},
   "source": [
    "#### Time complexity: O(nlogn)\n",
    "#### Space Complexity: O(n)"
   ]
  },
  {
   "cell_type": "code",
   "execution_count": 1,
   "metadata": {},
   "outputs": [],
   "source": [
    "def mergeOverlappingIntervals(intervals):\n",
    "        intervals.sort()\n",
    "        si,ei = -1, -1\n",
    "        ans = []\n",
    "        for interval in intervals:\n",
    "            if si == -1 and ei == -1:\n",
    "                si = interval[0]\n",
    "                ei = interval[1]\n",
    "                continue\n",
    "            if interval[0] <= ei:\n",
    "                ei = max(ei,interval[1])\n",
    "            else:\n",
    "                ans.append([si,ei])\n",
    "                si = interval[0]\n",
    "                ei = interval[1]\n",
    "                continue\n",
    "        ans.append([si,ei])\n",
    "        return ans"
   ]
  },
  {
   "cell_type": "code",
   "execution_count": 2,
   "metadata": {},
   "outputs": [
    {
     "name": "stdout",
     "output_type": "stream",
     "text": [
      "[[1, 2], [3, 8], [9, 10]]\n"
     ]
    }
   ],
   "source": [
    "array= [\n",
    "  [1, 2],\n",
    "  [3, 5],\n",
    "  [4, 7],\n",
    "  [6, 8],\n",
    "  [9, 10]\n",
    "]\n",
    "print(mergeOverlappingIntervals(array))"
   ]
  }
 ],
 "metadata": {
  "kernelspec": {
   "display_name": "Python 3",
   "language": "python",
   "name": "python3"
  },
  "language_info": {
   "codemirror_mode": {
    "name": "ipython",
    "version": 3
   },
   "file_extension": ".py",
   "mimetype": "text/x-python",
   "name": "python",
   "nbconvert_exporter": "python",
   "pygments_lexer": "ipython3",
   "version": "3.11.3"
  },
  "orig_nbformat": 4
 },
 "nbformat": 4,
 "nbformat_minor": 2
}
