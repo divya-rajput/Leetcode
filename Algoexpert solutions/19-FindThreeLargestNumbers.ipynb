{
 "cells": [
  {
   "attachments": {},
   "cell_type": "markdown",
   "metadata": {},
   "source": [
    "# Complexity analysis"
   ]
  },
  {
   "attachments": {},
   "cell_type": "markdown",
   "metadata": {},
   "source": [
    "#### Solution 1: Time Complexity: O(nlogn) and Space Complexity: O(1)"
   ]
  },
  {
   "cell_type": "code",
   "execution_count": 4,
   "metadata": {},
   "outputs": [],
   "source": [
    "def findThreeLargestNumbersOne(array):\n",
    "\tarray.sort()\n",
    "\tiniElement = len(array)-3\n",
    "\treturn array[iniElement: ]"
   ]
  },
  {
   "attachments": {},
   "cell_type": "markdown",
   "metadata": {},
   "source": [
    "#### Solution 2: Time Complexity: O(n) and Space Complexity: O(1)"
   ]
  },
  {
   "cell_type": "code",
   "execution_count": 1,
   "metadata": {},
   "outputs": [],
   "source": [
    "def findThreeLargestNumbersTwo(array):\n",
    "\tval_1,val_2,val_3 = float(\"-inf\"), float(\"-inf\"), float(\"-inf\")\n",
    "\tfor num in array:\n",
    "\t\tif num > val_1:\n",
    "\t\t\tval_3 = val_2\n",
    "\t\t\tval_2 = val_1\n",
    "\t\t\tval_1 = num\n",
    "\t\telif num > val_2:\n",
    "\t\t\tval_3 = val_2\n",
    "\t\t\tval_2 = num\n",
    "\t\telif num > val_3:\n",
    "\t\t\tval_3 = num\n",
    "\treturn [val_3,val_2,val_1]"
   ]
  },
  {
   "cell_type": "code",
   "execution_count": 5,
   "metadata": {},
   "outputs": [
    {
     "name": "stdout",
     "output_type": "stream",
     "text": [
      "[12, 13, 15]\n",
      "[12, 13, 15]\n"
     ]
    }
   ],
   "source": [
    "array = [12,1,6,13,15,2]\n",
    "print(findThreeLargestNumbersOne(array))\n",
    "print(findThreeLargestNumbersTwo(array))"
   ]
  }
 ],
 "metadata": {
  "kernelspec": {
   "display_name": "Python 3",
   "language": "python",
   "name": "python3"
  },
  "language_info": {
   "codemirror_mode": {
    "name": "ipython",
    "version": 3
   },
   "file_extension": ".py",
   "mimetype": "text/x-python",
   "name": "python",
   "nbconvert_exporter": "python",
   "pygments_lexer": "ipython3",
   "version": "3.11.3"
  },
  "orig_nbformat": 4
 },
 "nbformat": 4,
 "nbformat_minor": 2
}
