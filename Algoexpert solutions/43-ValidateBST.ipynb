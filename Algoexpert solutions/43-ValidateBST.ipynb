{
 "cells": [
  {
   "attachments": {},
   "cell_type": "markdown",
   "metadata": {},
   "source": [
    "# Complexity analysis"
   ]
  },
  {
   "attachments": {},
   "cell_type": "markdown",
   "metadata": {},
   "source": [
    "#### Time Complexity: O(log(n))\n",
    "#### Space Complexity: O(1)\n"
   ]
  },
  {
   "cell_type": "code",
   "execution_count": 5,
   "metadata": {},
   "outputs": [],
   "source": [
    "class BST:\n",
    "    def __init__(self, value):\n",
    "        self.value = value\n",
    "        self.left = None\n",
    "        self.right = None\n",
    "        \n",
    "def validateBst(tree):\n",
    "    return validateBSTHelper(tree,float(\"-inf\"),float(\"inf\"))\n",
    "\n",
    "def validateBSTHelper(tree,minVal,maxVal):\n",
    "    if tree is None:\n",
    "        return True\n",
    "    if tree.value < minVal or tree.value >= maxVal:\n",
    "        return False\n",
    "    leftValid = validateBSTHelper(tree.left,minVal,tree.value)\n",
    "    rightValid = validateBSTHelper(tree.right,tree.value,maxVal)\n",
    "    return leftValid and rightValid\n"
   ]
  }
 ],
 "metadata": {
  "kernelspec": {
   "display_name": "Python 3",
   "language": "python",
   "name": "python3"
  },
  "language_info": {
   "codemirror_mode": {
    "name": "ipython",
    "version": 3
   },
   "file_extension": ".py",
   "mimetype": "text/x-python",
   "name": "python",
   "nbconvert_exporter": "python",
   "pygments_lexer": "ipython3",
   "version": "3.11.3"
  },
  "orig_nbformat": 4
 },
 "nbformat": 4,
 "nbformat_minor": 2
}
