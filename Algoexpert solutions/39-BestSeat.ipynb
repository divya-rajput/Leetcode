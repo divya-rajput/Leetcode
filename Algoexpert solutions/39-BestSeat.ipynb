{
 "cells": [
  {
   "attachments": {},
   "cell_type": "markdown",
   "metadata": {},
   "source": [
    "# Complexity analysis"
   ]
  },
  {
   "attachments": {},
   "cell_type": "markdown",
   "metadata": {},
   "source": [
    "#### Time complexity: O(n)\n",
    "#### Space Complexity: O(1)"
   ]
  },
  {
   "cell_type": "code",
   "execution_count": 7,
   "metadata": {},
   "outputs": [],
   "source": [
    "def bestSeat(seats):\n",
    "    bestSeat = -1\n",
    "    maxSpace = 0\n",
    "    left = 0\n",
    "    while left < len(seats):\n",
    "        right = left + 1\n",
    "        while right < len(seats) and seats[right] == 0:\n",
    "            right += 1\n",
    "        availableSpace = right - left - 1\n",
    "        if availableSpace > maxSpace:\n",
    "            bestSeat = (left + right) // 2\n",
    "            maxSpace = availableSpace\n",
    "        left = right\n",
    "    return bestSeat"
   ]
  },
  {
   "cell_type": "code",
   "execution_count": 8,
   "metadata": {},
   "outputs": [
    {
     "name": "stdout",
     "output_type": "stream",
     "text": [
      "Output: 4\n"
     ]
    }
   ],
   "source": [
    "array= [1, 0, 1, 0, 0, 0, 1]\n",
    "print(\"Output:\",bestSeat(array))"
   ]
  }
 ],
 "metadata": {
  "kernelspec": {
   "display_name": "Python 3",
   "language": "python",
   "name": "python3"
  },
  "language_info": {
   "codemirror_mode": {
    "name": "ipython",
    "version": 3
   },
   "file_extension": ".py",
   "mimetype": "text/x-python",
   "name": "python",
   "nbconvert_exporter": "python",
   "pygments_lexer": "ipython3",
   "version": "3.11.3"
  },
  "orig_nbformat": 4
 },
 "nbformat": 4,
 "nbformat_minor": 2
}
