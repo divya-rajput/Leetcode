{
 "cells": [
  {
   "attachments": {},
   "cell_type": "markdown",
   "metadata": {},
   "source": [
    "# Complexity analysis"
   ]
  },
  {
   "attachments": {},
   "cell_type": "markdown",
   "metadata": {},
   "source": [
    "#### Solution 1: Time Complexity: O(n^2) and Space Complexity: O(n)"
   ]
  },
  {
   "cell_type": "code",
   "execution_count": 1,
   "metadata": {},
   "outputs": [],
   "source": [
    "def arrayOfProductsOne(array):\n",
    "    products = [1 for _ in range(len(array))]\n",
    "    for i in range(len(array)):\n",
    "        runningProduct = 1\n",
    "        for j in range(len(array)):\n",
    "            if i != j:\n",
    "                runningProduct *= array[j]\n",
    "        products[i] = runningProduct\n",
    "    return products"
   ]
  },
  {
   "attachments": {},
   "cell_type": "markdown",
   "metadata": {},
   "source": [
    "#### Solution 2: Time Complexity: O(n) and Space Complexity: O(n)"
   ]
  },
  {
   "cell_type": "code",
   "execution_count": 2,
   "metadata": {},
   "outputs": [],
   "source": [
    "def arrayOfProductsTwo(array):\n",
    "    products = [1 for _ in range(len(array))]\n",
    "    leftRunningProduct = 1\n",
    "    for i in range(len(array)):\n",
    "        products[i] = leftRunningProduct\n",
    "        leftRunningProduct *= array[i]\n",
    "\n",
    "    rightRunningProduct = 1\n",
    "    for i in reversed(range(len(array))):\n",
    "        products[i] *= rightRunningProduct\n",
    "        rightRunningProduct *= array[i]\n",
    "\n",
    "    return products        \n",
    "        "
   ]
  },
  {
   "cell_type": "code",
   "execution_count": 3,
   "metadata": {},
   "outputs": [
    {
     "name": "stdout",
     "output_type": "stream",
     "text": [
      "Output1:  [8, 40, 10, 20] Output2:  [0, 0, 0, 0, 0, 0]\n",
      "Output3:  [0, 0, 0, 0, 0] Output4:  [52920, 0, 0, 0, 0, 0]\n"
     ]
    }
   ],
   "source": [
    "input1 = [5, 1, 4, 2]\n",
    "input2 = [0,0,3,5,6,7]\n",
    "input3 = [0,0,0,0,0]\n",
    "input4 = [0,56,7,3,5,9]\n",
    "print(\"Output1: \",arrayOfProductsOne(input1),\"Output2: \", arrayOfProductsOne(input2))\n",
    "print(\"Output3: \",arrayOfProductsTwo(input3), \"Output4: \",arrayOfProductsTwo(input4))"
   ]
  }
 ],
 "metadata": {
  "kernelspec": {
   "display_name": "Python 3",
   "language": "python",
   "name": "python3"
  },
  "language_info": {
   "codemirror_mode": {
    "name": "ipython",
    "version": 3
   },
   "file_extension": ".py",
   "mimetype": "text/x-python",
   "name": "python",
   "nbconvert_exporter": "python",
   "pygments_lexer": "ipython3",
   "version": "3.11.3"
  },
  "orig_nbformat": 4
 },
 "nbformat": 4,
 "nbformat_minor": 2
}
