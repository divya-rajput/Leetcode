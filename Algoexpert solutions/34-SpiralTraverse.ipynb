{
 "cells": [
  {
   "attachments": {},
   "cell_type": "markdown",
   "metadata": {},
   "source": [
    "# Complexity analysis"
   ]
  },
  {
   "attachments": {},
   "cell_type": "markdown",
   "metadata": {},
   "source": [
    "#### Time complexity: O(n)\n",
    "#### Space Complexity: O(n)"
   ]
  },
  {
   "cell_type": "code",
   "execution_count": 5,
   "metadata": {},
   "outputs": [],
   "source": [
    "def spiralTraverse(array):\n",
    "    result = []\n",
    "    startRow, endRow = 0, len(array)-1\n",
    "    startCol , endCol = 0, len(array[0])-1\n",
    "    \n",
    "    while startRow <= endRow and startCol <= endCol:\n",
    "        #First for loop will go from left to right changing the column\n",
    "        for col in range(startCol,endCol+1):\n",
    "            result.append(array[startRow][col])\n",
    "        startRow += 1\n",
    "        if startRow > endRow:\n",
    "            break\n",
    "        #Second For loop will traverse from top to bottom, where the row will change and column remain same.\n",
    "        for row in range(startRow,endRow+1):\n",
    "            result.append(array[row][endCol])\n",
    "        endCol -=1\n",
    "        if startCol > endCol:\n",
    "            break\n",
    "        #Third For loop will traverse from right to left in reverse order\n",
    "        for col in reversed(range(startCol,endCol+1)):\n",
    "            result.append(array[endRow][col])\n",
    "        endRow -= 1\n",
    "        #Fourth For loop will traverse from bottom  to top in reverse order  \n",
    "        for row in reversed(range(startRow,endRow+1)):\n",
    "            result.append(array[row][startCol])\n",
    "        startCol += 1\n",
    "        \n",
    "            \n",
    "    return result "
   ]
  },
  {
   "cell_type": "code",
   "execution_count": 6,
   "metadata": {},
   "outputs": [
    {
     "name": "stdout",
     "output_type": "stream",
     "text": [
      "[1, 2, 3, 4, 5, 6, 7, 8, 9, 10, 11, 12, 13, 14, 15, 16]\n"
     ]
    }
   ],
   "source": [
    "array= [\n",
    "  [1, 2, 3, 4],\n",
    "  [12, 13, 14, 5],\n",
    "  [11, 16, 15, 6],\n",
    "  [10, 9, 8, 7]\n",
    "]\n",
    "print(spiralTraverse(array))"
   ]
  }
 ],
 "metadata": {
  "kernelspec": {
   "display_name": "Python 3",
   "language": "python",
   "name": "python3"
  },
  "language_info": {
   "codemirror_mode": {
    "name": "ipython",
    "version": 3
   },
   "file_extension": ".py",
   "mimetype": "text/x-python",
   "name": "python",
   "nbconvert_exporter": "python",
   "pygments_lexer": "ipython3",
   "version": "3.11.3"
  },
  "orig_nbformat": 4
 },
 "nbformat": 4,
 "nbformat_minor": 2
}
