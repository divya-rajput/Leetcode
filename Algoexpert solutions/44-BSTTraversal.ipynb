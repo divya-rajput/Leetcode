{
 "cells": [
  {
   "attachments": {},
   "cell_type": "markdown",
   "metadata": {},
   "source": [
    "# Complexity analysis"
   ]
  },
  {
   "attachments": {},
   "cell_type": "markdown",
   "metadata": {},
   "source": [
    "#### Inorder: Time Complexity: O(n) and Space Complexity: O(n)\n",
    "#### Preorder: Time Complexity: O(n) and Space Complexity: O(n)\n",
    "#### Postorder: Time Complexity: O(n) and Space Complexity: O(n)"
   ]
  },
  {
   "cell_type": "code",
   "execution_count": 1,
   "metadata": {},
   "outputs": [],
   "source": [
    "def inOrderTraverse(tree, array):\n",
    "    # Write your code here.\n",
    "    if tree is not None:\n",
    "        inOrderTraverse(tree.left,array)\n",
    "        array.append(tree.value)\n",
    "        inOrderTraverse(tree.right,array)\n",
    "    return array\n",
    "\n",
    "\n",
    "def preOrderTraverse(tree, array):\n",
    "    if tree is not None:\n",
    "        array.append(tree.value)\n",
    "        preOrderTraverse(tree.left,array)\n",
    "        preOrderTraverse(tree.right,array)\n",
    "    return array\n",
    "\n",
    "\n",
    "def postOrderTraverse(tree, array):\n",
    "    if tree is not None:\n",
    "        postOrderTraverse(tree.left,array)\n",
    "        postOrderTraverse(tree.right,array)\n",
    "        array.append(tree.value)\n",
    "    return array"
   ]
  }
 ],
 "metadata": {
  "kernelspec": {
   "display_name": "Python 3",
   "language": "python",
   "name": "python3"
  },
  "language_info": {
   "codemirror_mode": {
    "name": "ipython",
    "version": 3
   },
   "file_extension": ".py",
   "mimetype": "text/x-python",
   "name": "python",
   "nbconvert_exporter": "python",
   "pygments_lexer": "ipython3",
   "version": "3.11.3"
  },
  "orig_nbformat": 4
 },
 "nbformat": 4,
 "nbformat_minor": 2
}
