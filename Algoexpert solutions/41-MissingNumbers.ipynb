{
 "cells": [
  {
   "attachments": {},
   "cell_type": "markdown",
   "metadata": {},
   "source": [
    "# Complexity analysis"
   ]
  },
  {
   "attachments": {},
   "cell_type": "markdown",
   "metadata": {},
   "source": [
    "#### Solution 1: Time Complexity: O(n) and Space Complexity: O(n)"
   ]
  },
  {
   "cell_type": "code",
   "execution_count": 14,
   "metadata": {},
   "outputs": [],
   "source": [
    "def missingNumbersOne(nums):\n",
    "    total = len(nums) + 2\n",
    "    x = [0] * total\n",
    "    i = 0\n",
    "    while i < len(nums):\n",
    "        x[nums[i] - 1] = 1\n",
    "        i += 1\n",
    "    j = 0\n",
    "    result = []\n",
    "    while j < total:\n",
    "        if x[j] == 0:\n",
    "        \tresult.append(j + 1)\n",
    "        j += 1\n",
    "    return result"
   ]
  },
  {
   "attachments": {},
   "cell_type": "markdown",
   "metadata": {},
   "source": [
    "#### Solution 2: Time Complexity: O(n) and Space Complexity: O(1)"
   ]
  },
  {
   "cell_type": "code",
   "execution_count": 16,
   "metadata": {},
   "outputs": [],
   "source": [
    "def missingNumbersTwo(nums):\n",
    "    nums.append(1e9+7)\n",
    "    nums.append(1e9+7)\n",
    "\n",
    "    i = 0\n",
    "    while i < len(nums) - 2:\n",
    "        nums[abs(nums[i])-1] *= -1\n",
    "        i += 1\n",
    "    ans = []\n",
    "    for i in range(len(nums)):\n",
    "        if nums[i] > 0:\n",
    "            ans.append(i+1)\n",
    "    return ans\n"
   ]
  },
  {
   "cell_type": "code",
   "execution_count": 17,
   "metadata": {},
   "outputs": [
    {
     "name": "stdout",
     "output_type": "stream",
     "text": [
      "Output1:  [2, 5]\n",
      "Output2:  [2, 4]\n"
     ]
    }
   ],
   "source": [
    "input1 = [1,4,3]\n",
    "input2 = [1,5,3]\n",
    "print(\"Output1: \",missingNumbersOne(input1))\n",
    "print(\"Output2: \",missingNumbersTwo(input2))"
   ]
  }
 ],
 "metadata": {
  "kernelspec": {
   "display_name": "Python 3",
   "language": "python",
   "name": "python3"
  },
  "language_info": {
   "codemirror_mode": {
    "name": "ipython",
    "version": 3
   },
   "file_extension": ".py",
   "mimetype": "text/x-python",
   "name": "python",
   "nbconvert_exporter": "python",
   "pygments_lexer": "ipython3",
   "version": "3.11.3"
  },
  "orig_nbformat": 4
 },
 "nbformat": 4,
 "nbformat_minor": 2
}
