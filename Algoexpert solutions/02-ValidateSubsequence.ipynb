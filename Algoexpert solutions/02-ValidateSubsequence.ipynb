{
 "cells": [
  {
   "cell_type": "markdown",
   "id": "46404f64",
   "metadata": {},
   "source": [
    "# Complexity analysis"
   ]
  },
  {
   "cell_type": "markdown",
   "id": "f38ffba7",
   "metadata": {},
   "source": [
    "### Solution- 01 Time complexity- O(n^2) Space complexity- O(1)"
   ]
  },
  {
   "cell_type": "code",
   "execution_count": 3,
   "id": "3ac4008d",
   "metadata": {},
   "outputs": [],
   "source": [
    "def isValidSubsequence(array, sequence):\n",
    "    arrStart = 0\n",
    "    seqStart = 0\n",
    "    #Return true when length of sequence is zero\n",
    "    if len(sequence) == 0:\n",
    "        return True\n",
    "    while arrStart < len(array):\n",
    "        if array[arrStart] == sequence[seqStart]:\n",
    "            seqStart += 1\n",
    "        if len(sequence) == seqStart:\n",
    "            break\n",
    "        arrStart += 1\n",
    "    return (seqStart == len(sequence))"
   ]
  }
 ],
 "metadata": {
  "kernelspec": {
   "display_name": "Python 3 (ipykernel)",
   "language": "python",
   "name": "python3"
  },
  "language_info": {
   "codemirror_mode": {
    "name": "ipython",
    "version": 3
   },
   "file_extension": ".py",
   "mimetype": "text/x-python",
   "name": "python",
   "nbconvert_exporter": "python",
   "pygments_lexer": "ipython3",
   "version": "3.11.3"
  }
 },
 "nbformat": 4,
 "nbformat_minor": 5
}
