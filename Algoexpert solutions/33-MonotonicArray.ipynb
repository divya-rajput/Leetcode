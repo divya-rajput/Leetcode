{
 "cells": [
  {
   "attachments": {},
   "cell_type": "markdown",
   "metadata": {},
   "source": [
    "# Complexity analysis"
   ]
  },
  {
   "attachments": {},
   "cell_type": "markdown",
   "metadata": {},
   "source": [
    "#### Time complexity: O(n)\n",
    "#### Space Complexity: O(1)\n",
    "Aproach Used: Iterative approach"
   ]
  },
  {
   "cell_type": "code",
   "execution_count": 18,
   "metadata": {},
   "outputs": [],
   "source": [
    "def isMonotonic(array):\n",
    "    if(len(array) <= 2):\n",
    "        return True\n",
    "    direction = array[1] - array[0]\n",
    "    for i in range(1, len(array)):\n",
    "        if direction == 0:\n",
    "            direction = array[i] - array[i-1]\n",
    "            continue\n",
    "        if breaksDirection(direction, array[i-1],array[i]):\n",
    "            return False\n",
    "    return True\n",
    "\n",
    "def breaksDirection(direction,prevInt, currInt):\n",
    "    difference = currInt - prevInt\n",
    "    if direction > 0:\n",
    "        return difference < 0\n",
    "    return difference > 0\n"
   ]
  },
  {
   "cell_type": "code",
   "execution_count": 20,
   "metadata": {},
   "outputs": [
    {
     "name": "stdout",
     "output_type": "stream",
     "text": [
      "True\n",
      "False\n",
      "False\n"
     ]
    }
   ],
   "source": [
    "print(isMonotonic([-1, -5, -10, -1100, -1100, -1101, -1102, -9001]))\n",
    "print(isMonotonic([-1,-5,10]))\n",
    "print(isMonotonic([1, 1, 1, 2, 3, 4, 1]))"
   ]
  }
 ],
 "metadata": {
  "kernelspec": {
   "display_name": "Python 3",
   "language": "python",
   "name": "python3"
  },
  "language_info": {
   "codemirror_mode": {
    "name": "ipython",
    "version": 3
   },
   "file_extension": ".py",
   "mimetype": "text/x-python",
   "name": "python",
   "nbconvert_exporter": "python",
   "pygments_lexer": "ipython3",
   "version": "3.11.3"
  },
  "orig_nbformat": 4
 },
 "nbformat": 4,
 "nbformat_minor": 2
}
