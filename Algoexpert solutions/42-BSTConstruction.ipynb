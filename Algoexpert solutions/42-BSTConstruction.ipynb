{
 "cells": [
  {
   "attachments": {},
   "cell_type": "markdown",
   "metadata": {},
   "source": [
    "# Complexity analysis"
   ]
  },
  {
   "attachments": {},
   "cell_type": "markdown",
   "metadata": {},
   "source": [
    "#### Insert operation: Time Complexity: O(log(n)) and Space Complexity: O(1)\n",
    "#### Delete operation: Time Complexity: O(log(n)) and Space Complexity: O(1)\n",
    "#### Search operation: Time Complexity: O(log(n)) and Space Complexity: O(1)"
   ]
  },
  {
   "cell_type": "code",
   "execution_count": 1,
   "metadata": {},
   "outputs": [],
   "source": [
    "\n",
    "class BST:\n",
    "    def __init__(self, value):\n",
    "        self.value = value\n",
    "        self.left = None\n",
    "        self.right = None\n",
    "\n",
    "    def insert(self, value):\n",
    "\n",
    "        currentNode = self\n",
    "        if value < currentNode.value:\n",
    "            if currentNode.left is None:\n",
    "                currentNode.left = BST(value)\n",
    "            else:\n",
    "                currentNode.left.insert(value)\n",
    "        else:\n",
    "            if currentNode.right is None:\n",
    "                currentNode.right = BST(value)\n",
    "            else:\n",
    "                currentNode.right.insert(value)          \n",
    "        return currentNode\n",
    "\n",
    "    def contains(self, value):\n",
    "        # Write your code here.\n",
    "        currentNode = self\n",
    "        if value < currentNode.value:\n",
    "            if currentNode.left is None:\n",
    "                return False\n",
    "            else:\n",
    "                return currentNode.left.contains(value)\n",
    "        elif value > currentNode.value:\n",
    "            if currentNode.right is None:\n",
    "                return False\n",
    "            else:\n",
    "                return currentNode.right.contains(value)\n",
    "        else:\n",
    "            return True\n",
    "\n",
    "    def remove(self, value,parentNode = None):\n",
    "        # Write your code here.\n",
    "        # Do not edit the return statement of this method.\n",
    "        currentNode = self\n",
    "        while currentNode is not None:\n",
    "            if value < currentNode.value:\n",
    "                parentNode = currentNode\n",
    "                currentNode = currentNode.left\n",
    "            elif value > currentNode.value:\n",
    "                parentNode = currentNode\n",
    "                currentNode = currentNode.right\n",
    "            else:\n",
    "                if currentNode.left is not None and currentNode.right is not None:\n",
    "                    currentNode.value = currentNode.right.getMinValue()\n",
    "                    currentNode.right.remove(currentNode.value,currentNode)\n",
    "                elif parentNode is None:\n",
    "                    if currentNode.left is not None:\n",
    "                        currentNode.value = currentNode.left.value\n",
    "                        currentNode.right = currentNode.left.right\n",
    "                        currentNode.left = currentNode.left.left\n",
    "                    elif currentNode.right is not None:\n",
    "                        currentNode.value = currentNode.right.value\n",
    "                        currentNode.left = currentNode.right.left\n",
    "                        currentNode.right = currentNode.right.right\n",
    "                    else:\n",
    "                        pass\n",
    "                elif parentNode.left == currentNode:\n",
    "                    parentNode.left = currentNode.left if currentNode.left is not None else currentNode.right\n",
    "\n",
    "                elif parentNode.right == currentNode:\n",
    "                    parentNode.right = currentNode.left if currentNode.left is not None else currentNode.right\n",
    "                break\n",
    "        return self\n",
    "    def getMinValue(self):\n",
    "        if self.left is None:\n",
    "            return self.value\n",
    "        else:\n",
    "            return self.left.getMinValue()\n"
   ]
  }
 ],
 "metadata": {
  "kernelspec": {
   "display_name": "Python 3",
   "language": "python",
   "name": "python3"
  },
  "language_info": {
   "codemirror_mode": {
    "name": "ipython",
    "version": 3
   },
   "file_extension": ".py",
   "mimetype": "text/x-python",
   "name": "python",
   "nbconvert_exporter": "python",
   "pygments_lexer": "ipython3",
   "version": "3.11.3"
  },
  "orig_nbformat": 4
 },
 "nbformat": 4,
 "nbformat_minor": 2
}
